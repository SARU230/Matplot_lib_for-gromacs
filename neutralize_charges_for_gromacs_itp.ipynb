{
  "nbformat": 4,
  "nbformat_minor": 0,
  "metadata": {
    "colab": {
      "provenance": [],
      "authorship_tag": "ABX9TyNUySSTWzoxlV8ec6P4thhS",
      "include_colab_link": true
    },
    "kernelspec": {
      "name": "python3",
      "display_name": "Python 3"
    },
    "language_info": {
      "name": "python"
    }
  },
  "cells": [
    {
      "cell_type": "markdown",
      "metadata": {
        "id": "view-in-github",
        "colab_type": "text"
      },
      "source": [
        "<a href=\"https://colab.research.google.com/github/SARU230/Matplot_lib_for-gromacs/blob/main/neutralize_charges_for_gromacs_itp.ipynb\" target=\"_parent\"><img src=\"https://colab.research.google.com/assets/colab-badge.svg\" alt=\"Open In Colab\"/></a>"
      ]
    },
    {
      "cell_type": "code",
      "execution_count": null,
      "metadata": {
        "colab": {
          "base_uri": "https://localhost:8080/"
        },
        "id": "Oxp176o-G0bU",
        "outputId": "1790fcba-4b70-4c18-9f15-e1ab0adfc72f"
      },
      "outputs": [
        {
          "output_type": "stream",
          "name": "stdout",
          "text": [
            "Enter input charge filename: cm5_charges.txt\n",
            "Enter output filename for adjusted charges: neutralize.txt\n",
            "Enter the integer total molecular charge (e.g., 0, +1, -1): 0\n",
            "Original total charge: -0.000157000000\n",
            "Target charge: 0\n",
            "Initial adjustment per atom: 1.427272727273e-06\n",
            "Rounding residual distributed: -2.9999999134194821e-09\n",
            "Final total charge after redistribution: 0.0000000000\n",
            "Balanced neutralized charges written to neutralize.txt\n"
          ]
        }
      ],
      "source": [
        "def distribute_residual_evenly(charges, residual, precision=10):\n",
        "    \"\"\"\n",
        "    Distribute residual charge evenly and gradually over all atoms in small increments,\n",
        "    to keep final sum exactly to target charge up to given precision.\n",
        "    \"\"\"\n",
        "    n_atoms = len(charges)\n",
        "    step = 10 ** (-precision)  # smallest increment per precision digit\n",
        "    increments = int(round(residual / step))\n",
        "    adjusted_charges = charges[:]\n",
        "    idx = 0\n",
        "\n",
        "    while increments != 0:\n",
        "        increment_sign = 1 if increments > 0 else -1\n",
        "        adjusted_charges[idx] += increment_sign * step\n",
        "        increments -= increment_sign\n",
        "        idx = (idx + 1) % n_atoms\n",
        "\n",
        "    return adjusted_charges\n",
        "\n",
        "\n",
        "def neutralize_charges_balanced(input_filename, output_filename, target_charge=0, precision=10):\n",
        "    with open(input_filename, 'r') as f:\n",
        "        charges = [float(line.strip()) for line in f if line.strip()]\n",
        "\n",
        "    original_sum = sum(charges)\n",
        "    n_atoms = len(charges)\n",
        "    delta_q = target_charge - original_sum\n",
        "    base_adjust = delta_q / n_atoms\n",
        "    adjusted_charges = [q + base_adjust for q in charges]\n",
        "\n",
        "    format_str = f\"{{: >14.{precision}f}}\"\n",
        "    rounded_charges = [float(format_str.format(q)) for q in adjusted_charges]\n",
        "\n",
        "    residual = target_charge - sum(rounded_charges)\n",
        "\n",
        "    final_charges = distribute_residual_evenly(rounded_charges, residual, precision)\n",
        "    final_sum = sum(final_charges)\n",
        "\n",
        "    with open(output_filename, 'w') as f:\n",
        "        for q in final_charges:\n",
        "            f.write(format_str.format(q) + '\\n')\n",
        "\n",
        "    print(f\"Original total charge: {original_sum:.12f}\")\n",
        "    print(f\"Target charge: {target_charge}\")\n",
        "    print(f\"Initial adjustment per atom: {base_adjust:.12e}\")\n",
        "    print(f\"Rounding residual distributed: {residual:.16e}\")\n",
        "    print(f\"Final total charge after redistribution: {final_sum:.{precision}f}\")\n",
        "    print(f\"Balanced neutralized charges written to {output_filename}\")\n",
        "\n",
        "\n",
        "if __name__ == \"__main__\":\n",
        "    input_file = input(\"Enter input charge filename: \").strip()\n",
        "    output_file = input(\"Enter output filename for adjusted charges: \").strip()\n",
        "\n",
        "    while True:\n",
        "        try:\n",
        "            target_charge = int(input(\"Enter the integer total molecular charge (e.g., 0, +1, -1): \"))\n",
        "            break\n",
        "        except ValueError:\n",
        "            print(\"Invalid input. Please enter an integer.\")\n",
        "\n",
        "    neutralize_charges_balanced(input_file, output_file, target_charge=target_charge, precision=10)\n"
      ]
    },
    {
      "cell_type": "code",
      "source": [
        "# Replace 'output_charges.txt' with your actual filename\n",
        "with open('neutralize.txt', 'r') as f:\n",
        "    charges = [float(line.strip()) for line in f if line.strip()]\n",
        "\n",
        "net_charge = sum(charges)\n",
        "print(f\"Net charge of output: {net_charge:.16f}\")\n"
      ],
      "metadata": {
        "colab": {
          "base_uri": "https://localhost:8080/"
        },
        "id": "c16fmOe1NT5e",
        "outputId": "91af3715-dd7a-4f03-b70d-715333258ed2"
      },
      "execution_count": null,
      "outputs": [
        {
          "output_type": "stream",
          "name": "stdout",
          "text": [
            "Net charge of output: -0.0000000000000000\n"
          ]
        }
      ]
    }
  ]
}